{
 "cells": [
  {
   "cell_type": "code",
   "execution_count": 5,
   "metadata": {},
   "outputs": [
    {
     "data": {
      "text/plain": [
       "True"
      ]
     },
     "execution_count": 5,
     "metadata": {},
     "output_type": "execute_result"
    }
   ],
   "source": [
    "from langchain.prompts import PromptTemplate\n",
    "from langchain.memory import ConversationBufferMemory\n",
    "from langchain.chains import ConversationChain\n",
    "\n",
    "from langchain_google_genai import ChatGoogleGenerativeAI\n",
    "\n",
    "from dotenv import load_dotenv\n",
    "\n",
    "load_dotenv()"
   ]
  },
  {
   "cell_type": "code",
   "execution_count": null,
   "metadata": {},
   "outputs": [],
   "source": []
  },
  {
   "cell_type": "code",
   "execution_count": 63,
   "metadata": {},
   "outputs": [],
   "source": [
    "prompt_template =\"\"\"\n",
    "    *you are an expert in writing a story-board for an advertising and film-making company*\n",
    "\n",
    "    *Context:*\n",
    "    {input}\n",
    "\n",
    "    *Instructions:*\n",
    "        As an expert in writing a story board, your goal is to assist directors by providing a four frames in english from the context:\n",
    "        \n",
    "        - Return and Plan in scene_description how each scene flows into the next. Consider pacing, rhythm, and the emotional impact of scene transitions.\n",
    "        - Only respond in json format and nothing else.d\n",
    "        - Describe the movement of characters within each scene\n",
    "        - Pay attention to character dynamics and how they contribute to the story's development.\n",
    "        - Make the third question the key visual elements and make it the center of atention.\n",
    "        - Pay attention to Camera Movements and Angles.\n",
    "        - provide me with the needed tools to film the scene.\n",
    "        - The prompt is for txt2img model that describe each scened.\n",
    "        - I need the respond in json format scenes: (scene_num, scene_description, prompt, tools).\n",
    "        - The tools should be (camera, lighting, angle, movement)\n",
    "        \n",
    "\n",
    "    *Chat History:*:\n",
    "    {history}\n",
    "\n",
    "    *Answer:*\n",
    "\"\"\".strip()"
   ]
  },
  {
   "cell_type": "code",
   "execution_count": 64,
   "metadata": {},
   "outputs": [],
   "source": [
    "memory = ConversationBufferMemory(memory_key=\"history\", input_key=\"input\", ai_prefix=\"**Answer:**\")\n",
    "\n",
    "prompt = PromptTemplate(template=prompt_template,\n",
    "                        input_variables=[\"history\", \"input\"]\n",
    "                        )\n",
    "\n",
    "llm = ChatGoogleGenerativeAI(model=\"gemini-pro\",\n",
    "                                temperatue=0.3,\n",
    "                                maxOutputTokens=10240\n",
    "                                )\n",
    "\n",
    "chain = ConversationChain(llm=llm,\n",
    "                        memory=memory,\n",
    "                        prompt=prompt\n",
    "                        )"
   ]
  },
  {
   "cell_type": "code",
   "execution_count": 65,
   "metadata": {},
   "outputs": [],
   "source": [
    "response = chain.predict(input=\"the product is a car\")"
   ]
  },
  {
   "cell_type": "code",
   "execution_count": 66,
   "metadata": {},
   "outputs": [],
   "source": [
    "import json\n",
    "\n",
    "json_start = response.find('{')\n",
    "json_end = response.rfind('}')\n",
    "json_content = response[json_start:json_end + 1]\n",
    "parsed_response = json.loads(json_content)"
   ]
  },
  {
   "cell_type": "code",
   "execution_count": 67,
   "metadata": {},
   "outputs": [
    {
     "name": "stdout",
     "output_type": "stream",
     "text": [
      "{'history': 'Human: the product is a car\\n**Answer:**: ```json\\n{\\n  \"scenes\": [\\n    {\\n      \"scene_num\": 1,\\n      \"scene_description\": \"A man is driving a car down a highway.\",\\n      \"prompt\": \"A man is driving a car down a highway. The sun is setting and the sky is a beautiful orange color.\",\\n      \"tools\": {\\n        \"camera\": \"wide-angle lens\",\\n        \"lighting\": \"natural light\",\\n        \"angle\": \"eye-level\",\\n        \"movement\": \"tracking shot\"\\n      }\\n    },\\n    {\\n      \"scene_num\": 2,\\n      \"scene_description\": \"The man pulls over to the side of the road and gets out of the car.\",\\n      \"prompt\": \"The man pulls over to the side of the road and gets out of the car. He looks around and takes a deep breath.\",\\n      \"tools\": {\\n        \"camera\": \"medium-shot lens\",\\n        \"lighting\": \"natural light\",\\n        \"angle\": \"eye-level\",\\n        \"movement\": \"pan shot\"\\n      }\\n    },\\n    {\\n      \"scene_num\": 3,\\n      \"scene_description\": \"The man looks at the car and smiles.\",\\n      \"prompt\": \"The man looks at the car and smiles. He is proud of what he has accomplished.\",\\n      \"tools\": {\\n        \"camera\": \"close-up lens\",\\n        \"lighting\": \"natural light\",\\n        \"angle\": \"eye-level\",\\n        \"movement\": \"still shot\"\\n      }\\n    },\\n    {\\n      \"scene_num\": 4,\\n      \"scene_description\": \"The man gets back in the car and drives away.\",\\n      \"prompt\": \"The man gets back in the car and drives away. He is happy and content.\",\\n      \"tools\": {\\n        \"camera\": \"wide-angle lens\",\\n        \"lighting\": \"natural light\",\\n        \"angle\": \"eye-level\",\\n        \"movement\": \"tracking shot\"\\n      }\\n    }\\n  ]\\n}\\n```'}\n"
     ]
    }
   ],
   "source": [
    "print(memory.load_memory_variables({}))\n"
   ]
  },
  {
   "cell_type": "code",
   "execution_count": 68,
   "metadata": {},
   "outputs": [
    {
     "data": {
      "text/plain": [
       "{'scenes': [{'scene_num': 1,\n",
       "   'scene_description': 'A man is driving a car down a highway.',\n",
       "   'prompt': 'A man is driving a car down a highway. The sun is setting and the sky is a beautiful orange color.',\n",
       "   'tools': {'camera': 'wide-angle lens',\n",
       "    'lighting': 'natural light',\n",
       "    'angle': 'eye-level',\n",
       "    'movement': 'tracking shot'}},\n",
       "  {'scene_num': 2,\n",
       "   'scene_description': 'The man pulls over to the side of the road and gets out of the car.',\n",
       "   'prompt': 'The man pulls over to the side of the road and gets out of the car. He looks around and takes a deep breath.',\n",
       "   'tools': {'camera': 'medium-shot lens',\n",
       "    'lighting': 'natural light',\n",
       "    'angle': 'eye-level',\n",
       "    'movement': 'pan shot'}},\n",
       "  {'scene_num': 3,\n",
       "   'scene_description': 'The man looks at the car and smiles.',\n",
       "   'prompt': 'The man looks at the car and smiles. He is proud of what he has accomplished.',\n",
       "   'tools': {'camera': 'close-up lens',\n",
       "    'lighting': 'natural light',\n",
       "    'angle': 'eye-level',\n",
       "    'movement': 'still shot'}},\n",
       "  {'scene_num': 4,\n",
       "   'scene_description': 'The man gets back in the car and drives away.',\n",
       "   'prompt': 'The man gets back in the car and drives away. He is happy and content.',\n",
       "   'tools': {'camera': 'wide-angle lens',\n",
       "    'lighting': 'natural light',\n",
       "    'angle': 'eye-level',\n",
       "    'movement': 'tracking shot'}}]}"
      ]
     },
     "execution_count": 68,
     "metadata": {},
     "output_type": "execute_result"
    }
   ],
   "source": [
    "parsed_response"
   ]
  },
  {
   "cell_type": "code",
   "execution_count": null,
   "metadata": {},
   "outputs": [],
   "source": []
  }
 ],
 "metadata": {
  "kernelspec": {
   "display_name": "hackathon",
   "language": "python",
   "name": "python3"
  },
  "language_info": {
   "codemirror_mode": {
    "name": "ipython",
    "version": 3
   },
   "file_extension": ".py",
   "mimetype": "text/x-python",
   "name": "python",
   "nbconvert_exporter": "python",
   "pygments_lexer": "ipython3",
   "version": "3.10.14"
  }
 },
 "nbformat": 4,
 "nbformat_minor": 2
}
